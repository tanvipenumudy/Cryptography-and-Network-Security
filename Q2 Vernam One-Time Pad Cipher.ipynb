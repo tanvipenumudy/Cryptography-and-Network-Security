{
 "cells": [
  {
   "cell_type": "code",
   "execution_count": 36,
   "metadata": {},
   "outputs": [
    {
     "name": "stdout",
     "output_type": "stream",
     "text": [
      "\n",
      "Choose the following options\n",
      "1: Encrypt the message\n",
      "2: Decrypt the message\n",
      "3: Exit 1\n",
      "Enter Plain Text: 001011010111\n",
      "Encrypted Message is: 111010011011\n",
      "Randomly Generated Key is: 110001001100\n",
      "\n",
      "Choose the following options\n",
      "1: Encrypt the message\n",
      "2: Decrypt the message\n",
      "3: Exit 2\n",
      "Decrypted Message is: 001011010111\n",
      "\n",
      "Choose the following options\n",
      "1: Encrypt the message\n",
      "2: Decrypt the message\n",
      "3: Exit 1\n",
      "Enter Plain Text: 0100110\n",
      "Encrypted Message is: 1110100\n",
      "Randomly Generated Key is: 1010010\n",
      "\n",
      "Choose the following options\n",
      "1: Encrypt the message\n",
      "2: Decrypt the message\n",
      "3: Exit 2\n",
      "Decrypted Message is: 0100110\n",
      "\n",
      "Choose the following options\n",
      "1: Encrypt the message\n",
      "2: Decrypt the message\n",
      "3: Exit 3\n"
     ]
    }
   ],
   "source": [
    "# Ques-2 Vernam One-Time Pad Cipher\n",
    "\n",
    "import random\n",
    "def RandomKey(n):\n",
    "    key=''\n",
    "    for i in range(n):\n",
    "        key=key+str(random.randint(0,1))\n",
    "    return key   \n",
    "\n",
    "def VernamEncrypt(p,k):\n",
    "    c=''\n",
    "    for i in range(len(p)):\n",
    "        if(p[i]=='0' and k[i]=='0'):\n",
    "            c=c+'0'\n",
    "        elif(p[i]=='0' and k[i]=='1'):\n",
    "            c=c+'1'\n",
    "        elif(p[i]=='1' and k[i]=='0'):\n",
    "            c=c+'1'\n",
    "        else:\n",
    "            c=c+'0'\n",
    "    return c,k\n",
    "\n",
    "def VernamDecrypt(c,k):\n",
    "    p=''\n",
    "    for i in range(len(c)):\n",
    "        if(c[i]=='0' and k[i]=='0'):\n",
    "            p=p+'0'\n",
    "        elif(c[i]=='0' and k[i]=='1'):\n",
    "            p=p+'1'\n",
    "        elif(c[i]=='1' and k[i]=='0'):\n",
    "            p=p+'1'\n",
    "        else:\n",
    "            p=p+'0'\n",
    "    return p\n",
    "\n",
    "# The key is randomly auto-generated at each instance of encryption and the same is utilized for the decryption process\n",
    "i=0\n",
    "while(i!=3):\n",
    "    i=int(input(\"\\nChoose the following options\\n1: Encrypt the message\\n2: Decrypt the message\\n3: Exit \"))\n",
    "    if(i==1):\n",
    "        p=input('Enter Plain Text: ')\n",
    "        c,k=VernamEncrypt(p,RandomKey(len(p)))\n",
    "        print(\"Encrypted Message is:\",c)\n",
    "        print(\"Randomly Generated Key is:\",k)\n",
    "    elif(i==2):\n",
    "        print(\"Decrypted Message is:\", VernamDecrypt(c,k))  \n"
   ]
  },
  {
   "cell_type": "code",
   "execution_count": null,
   "metadata": {},
   "outputs": [],
   "source": []
  }
 ],
 "metadata": {
  "kernelspec": {
   "display_name": "Python 3",
   "language": "python",
   "name": "python3"
  },
  "language_info": {
   "codemirror_mode": {
    "name": "ipython",
    "version": 3
   },
   "file_extension": ".py",
   "mimetype": "text/x-python",
   "name": "python",
   "nbconvert_exporter": "python",
   "pygments_lexer": "ipython3",
   "version": "3.7.0"
  }
 },
 "nbformat": 4,
 "nbformat_minor": 2
}
